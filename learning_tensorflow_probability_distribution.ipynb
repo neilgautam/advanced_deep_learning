{
 "cells": [
  {
   "cell_type": "code",
   "execution_count": 2,
   "metadata": {},
   "outputs": [],
   "source": [
    "import tensorflow as tf\n",
    "import tensorflow_probability as tfp\n",
    "import numpy as np\n",
    "import matplotlib.pyplot as plt\n",
    "#importing distributions module from the tensorflow_probability library to interact with various distributions\n",
    "tfd = tfp.distributions\n",
    "#importing distributions module from the tensorflow_probability library to model data using probabilistic models\n",
    "tfpl = tfp.layers"
   ]
  },
  {
   "cell_type": "code",
   "execution_count": 4,
   "metadata": {},
   "outputs": [
    {
     "data": {
      "text/plain": [
       "<tfp.distributions.Bernoulli 'Bernoulli' batch_shape=[] event_shape=[] dtype=int32>"
      ]
     },
     "execution_count": 4,
     "metadata": {},
     "output_type": "execute_result"
    }
   ],
   "source": [
    "#defining a univariate Bernoulli Distributions, setting the probability of getting 1 as 0.9\n",
    "bernoulli = tfd.Bernoulli(probs =0.9)\n",
    "bernoulli"
   ]
  },
  {
   "cell_type": "code",
   "execution_count": 5,
   "metadata": {},
   "outputs": [
    {
     "data": {
      "text/plain": [
       "<tf.Tensor: shape=(10,), dtype=int32, numpy=array([0, 1, 1, 1, 1, 1, 1, 1, 0, 1])>"
      ]
     },
     "execution_count": 5,
     "metadata": {},
     "output_type": "execute_result"
    }
   ],
   "source": [
    "bernoulli.sample(10)"
   ]
  },
  {
   "cell_type": "code",
   "execution_count": 6,
   "metadata": {},
   "outputs": [
    {
     "data": {
      "text/plain": [
       "<tf.Tensor: shape=(), dtype=float32, numpy=0.9>"
      ]
     },
     "execution_count": 6,
     "metadata": {},
     "output_type": "execute_result"
    }
   ],
   "source": [
    "bernoulli.prob(1)"
   ]
  },
  {
   "cell_type": "code",
   "execution_count": 7,
   "metadata": {},
   "outputs": [
    {
     "data": {
      "text/plain": [
       "<tf.Tensor: shape=(), dtype=float32, numpy=-0.105360545>"
      ]
     },
     "execution_count": 7,
     "metadata": {},
     "output_type": "execute_result"
    }
   ],
   "source": [
    "bernoulli.log_prob(1)"
   ]
  },
  {
   "cell_type": "code",
   "execution_count": 11,
   "metadata": {},
   "outputs": [
    {
     "data": {
      "text/plain": [
       "<tfp.distributions.Bernoulli 'Bernoulli' batch_shape=[2, 3] event_shape=[] dtype=int32>"
      ]
     },
     "execution_count": 11,
     "metadata": {},
     "output_type": "execute_result"
    }
   ],
   "source": [
    "#defining a multivaritate Bernoulli Distribution\n",
    "multivariate_bernoulli = tfd.Bernoulli(probs = [[0.3,0.6,0.55],[0.7,0.8,0.49]])\n",
    "multivariate_bernoulli\n",
    "#as we see that the batch_shape is (2,3), we can see that all the elements will be sampled from independent distributions"
   ]
  },
  {
   "cell_type": "code",
   "execution_count": 12,
   "metadata": {},
   "outputs": [
    {
     "data": {
      "text/plain": [
       "<tf.Tensor: shape=(5, 2, 3), dtype=int32, numpy=\n",
       "array([[[1, 1, 0],\n",
       "        [1, 1, 0]],\n",
       "\n",
       "       [[1, 1, 0],\n",
       "        [0, 1, 1]],\n",
       "\n",
       "       [[0, 1, 1],\n",
       "        [0, 0, 0]],\n",
       "\n",
       "       [[0, 1, 1],\n",
       "        [0, 0, 0]],\n",
       "\n",
       "       [[0, 0, 1],\n",
       "        [0, 0, 0]]])>"
      ]
     },
     "execution_count": 12,
     "metadata": {},
     "output_type": "execute_result"
    }
   ],
   "source": [
    "multivariate_bernoulli.sample(5)"
   ]
  },
  {
   "cell_type": "code",
   "execution_count": 14,
   "metadata": {},
   "outputs": [
    {
     "data": {
      "text/plain": [
       "<tf.Tensor: shape=(2, 3), dtype=float32, numpy=\n",
       "array([[0.3       , 0.6       , 0.55      ],\n",
       "       [0.6999999 , 0.8       , 0.48999998]], dtype=float32)>"
      ]
     },
     "execution_count": 14,
     "metadata": {},
     "output_type": "execute_result"
    }
   ],
   "source": [
    "multivariate_bernoulli.prob(1) # this simple example will show the broadcasting that takes place in this"
   ]
  },
  {
   "cell_type": "code",
   "execution_count": 15,
   "metadata": {},
   "outputs": [],
   "source": [
    "multi_bern_sample = multivariate_bernoulli.sample(10)"
   ]
  },
  {
   "cell_type": "code",
   "execution_count": 20,
   "metadata": {},
   "outputs": [
    {
     "data": {
      "text/plain": [
       "<tf.Tensor: shape=(2, 3), dtype=float32, numpy=\n",
       "array([[0.6999999 , 0.6       , 0.44999996],\n",
       "       [0.6999999 , 0.8       , 0.51      ]], dtype=float32)>"
      ]
     },
     "execution_count": 20,
     "metadata": {},
     "output_type": "execute_result"
    }
   ],
   "source": [
    "multivariate_bernoulli.prob(multi_bern_sample[5])"
   ]
  },
  {
   "cell_type": "code",
   "execution_count": 24,
   "metadata": {},
   "outputs": [
    {
     "data": {
      "text/plain": [
       "<tfp.distributions.Independent 'IndependentBernoulli' batch_shape=[2] event_shape=[3] dtype=int32>"
      ]
     },
     "execution_count": 24,
     "metadata": {},
     "output_type": "execute_result"
    }
   ],
   "source": [
    "#using Independent to make an independent distribution a dependent one\n",
    "ind_bernoulli = tfd.Independent(multivariate_bernoulli,\n",
    "                               reinterpreted_batch_ndims = 1)\n",
    "ind_bernoulli\n",
    "#here you may note the event_shape will shows the dimension of a single random_variable "
   ]
  },
  {
   "cell_type": "code",
   "execution_count": 25,
   "metadata": {},
   "outputs": [
    {
     "data": {
      "text/plain": [
       "<tf.Tensor: shape=(5, 2, 3), dtype=int32, numpy=\n",
       "array([[[0, 0, 0],\n",
       "        [1, 0, 0]],\n",
       "\n",
       "       [[1, 1, 1],\n",
       "        [0, 1, 0]],\n",
       "\n",
       "       [[0, 1, 1],\n",
       "        [1, 0, 1]],\n",
       "\n",
       "       [[0, 1, 0],\n",
       "        [1, 1, 0]],\n",
       "\n",
       "       [[0, 0, 1],\n",
       "        [1, 1, 1]]])>"
      ]
     },
     "execution_count": 25,
     "metadata": {},
     "output_type": "execute_result"
    }
   ],
   "source": [
    "ind_bernoulli.sample(5)"
   ]
  },
  {
   "cell_type": "code",
   "execution_count": 26,
   "metadata": {},
   "outputs": [],
   "source": [
    "# In the next step we are going to fit a distribution to a target distribution"
   ]
  },
  {
   "cell_type": "code",
   "execution_count": 44,
   "metadata": {},
   "outputs": [],
   "source": [
    "target = tfd.Exponential(rate = 0.3)\n",
    "x_data_samples = target.sample(1000)"
   ]
  },
  {
   "cell_type": "code",
   "execution_count": 47,
   "metadata": {},
   "outputs": [
    {
     "data": {
      "text/plain": [
       "<tf.Tensor: shape=(), dtype=float32, numpy=0.3>"
      ]
     },
     "execution_count": 47,
     "metadata": {},
     "output_type": "execute_result"
    }
   ],
   "source": [
    "target.rate"
   ]
  },
  {
   "cell_type": "code",
   "execution_count": 39,
   "metadata": {},
   "outputs": [],
   "source": [
    "def nll(x_train, y_):\n",
    "    return -tf.reduce_mean(y_.log_prob(x_train))"
   ]
  },
  {
   "cell_type": "code",
   "execution_count": 40,
   "metadata": {},
   "outputs": [],
   "source": [
    "def get_loss_and_grad(x_train,model_data):\n",
    "    with tf.GradientTape() as tape:\n",
    "        tape.watch(model_data.trainable_variables)\n",
    "        loss = nll(x_train,model_data)\n",
    "        grad = tape.gradient(loss,model_data.trainable_variables)\n",
    "    return loss,grad    "
   ]
  },
  {
   "cell_type": "code",
   "execution_count": 58,
   "metadata": {},
   "outputs": [],
   "source": [
    "def train_model(x_data_samples,epochs = 200):\n",
    "    model_data = tfd.Exponential(rate = tf.Variable(1.0, \"prob\"))\n",
    "    print(\"Initial State of the Model : \", model_data.trainable_variables)\n",
    "    optimizer = tf.keras.optimizers.Adam(learning_rate = 0.01)\n",
    "    loss_list = []\n",
    "    for i in range(1,epochs+1):\n",
    "        loss,grad = get_loss_and_grad(x_data_samples,model_data)\n",
    "        optimizer.apply_gradients(zip(grad,model_data.trainable_variables))\n",
    "        loss_list.append(loss)\n",
    "        if i%10==0:\n",
    "            print(\"iter {} : loss : {}, dist_val : {}\".format(i,loss,model_data.rate.value())) \n",
    "    plt.plot(loss_list,color = \"purple\")\n",
    "    plt.xlabel(\"epochs\")\n",
    "    plt.ylabel(\"loss-value\")\n",
    "    plt.show()"
   ]
  },
  {
   "cell_type": "code",
   "execution_count": 59,
   "metadata": {},
   "outputs": [
    {
     "name": "stdout",
     "output_type": "stream",
     "text": [
      "Initial State of the Model :  (<tf.Variable 'Variable:0' shape=() dtype=float32, numpy=1.0>,)\n",
      "iter 10 : loss : 3.318767786026001, dist_val : 0.9001405835151672\n",
      "iter 20 : loss : 3.082897663116455, dist_val : 0.8011558055877686\n",
      "iter 30 : loss : 2.865964412689209, dist_val : 0.7041050791740417\n",
      "iter 40 : loss : 2.673837900161743, dist_val : 0.6103482842445374\n",
      "iter 50 : loss : 2.513192653656006, dist_val : 0.5217253565788269\n",
      "iter 60 : loss : 2.3909175395965576, dist_val : 0.44085684418678284\n",
      "iter 70 : loss : 2.3119239807128906, dist_val : 0.3714573085308075\n",
      "iter 80 : loss : 2.2743706703186035, dist_val : 0.31820040941238403\n",
      "iter 90 : loss : 2.2651641368865967, dist_val : 0.2850550711154938\n",
      "iter 100 : loss : 2.26562762260437, dist_val : 0.271759957075119\n",
      "iter 110 : loss : 2.265716552734375, dist_val : 0.27206072211265564\n",
      "iter 120 : loss : 2.265183687210083, dist_val : 0.27738651633262634\n",
      "iter 130 : loss : 2.265000820159912, dist_val : 0.2818686068058014\n",
      "iter 140 : loss : 2.2650094032287598, dist_val : 0.28368905186653137\n",
      "iter 150 : loss : 2.2650089263916016, dist_val : 0.2835426330566406\n",
      "iter 160 : loss : 2.2649998664855957, dist_val : 0.2827446460723877\n",
      "iter 170 : loss : 2.2649972438812256, dist_val : 0.2821601331233978\n",
      "iter 180 : loss : 2.264997720718384, dist_val : 0.28199976682662964\n",
      "iter 190 : loss : 2.264997720718384, dist_val : 0.28209322690963745\n",
      "iter 200 : loss : 2.2649974822998047, dist_val : 0.2822211980819702\n"
     ]
    },
    {
     "data": {
      "image/png": "[encoded data removed]",
      "text/plain": [
       "<Figure size 432x288 with 1 Axes>"
      ]
     },
     "metadata": {
      "needs_background": "light"
     },
     "output_type": "display_data"
    }
   ],
   "source": [
    "train_model(x_data_samples)"
   ]
  },
  {
   "cell_type": "code",
   "execution_count": 61,
   "metadata": {},
   "outputs": [],
   "source": [
    "#testing network on other-distribution"
   ]
  },
  {
   "cell_type": "code",
   "execution_count": 105,
   "metadata": {},
   "outputs": [
    {
     "name": "stdout",
     "output_type": "stream",
     "text": [
      "tfp.distributions.Normal(\"Normal\", batch_shape=[], event_shape=[], dtype=float32)\n",
      "(5000,)\n"
     ]
    }
   ],
   "source": [
    "multivariate = tfd.Normal(loc = 3,scale = 4)\n",
    "print(multivariate)\n",
    "samples = multivariate.sample(5000)\n",
    "print(samples.shape)"
   ]
  },
  {
   "cell_type": "code",
   "execution_count": 97,
   "metadata": {},
   "outputs": [
    {
     "data": {
      "text/plain": [
       "<tf.Tensor: shape=(), dtype=float32, numpy=nan>"
      ]
     },
     "execution_count": 97,
     "metadata": {},
     "output_type": "execute_result"
    }
   ],
   "source": [
    "init_distribution.log_prob(samples[0])"
   ]
  },
  {
   "cell_type": "code",
   "execution_count": 64,
   "metadata": {},
   "outputs": [],
   "source": [
    "def nll(x_train, y_):\n",
    "    return -tf.reduce_mean(y_.log_prob(x_train))"
   ]
  },
  {
   "cell_type": "code",
   "execution_count": 120,
   "metadata": {},
   "outputs": [],
   "source": [
    "def get_loss_and_grad(x_train,model_data):\n",
    "    with tf.GradientTape() as tape:\n",
    "        tape.watch(model_data.trainable_variables)\n",
    "        loss = nll(x_train,model_data)\n",
    "        grad = tape.gradient(loss,model_data.trainable_variables)\n",
    "    return loss,grad    "
   ]
  },
  {
   "cell_type": "code",
   "execution_count": 121,
   "metadata": {},
   "outputs": [],
   "source": [
    "def train_model(x_data_samples,dist,epochs = 200):\n",
    "    model_data = dist\n",
    "    print(\"Initial State of the Model : \", model_data.trainable_variables)\n",
    "    optimizer = tf.keras.optimizers.Adam(learning_rate = 0.01)\n",
    "    loss_list = []\n",
    "    for i in range(1,epochs+1):\n",
    "        loss,grad = get_loss_and_grad(x_data_samples,model_data)\n",
    "        optimizer.apply_gradients(zip(grad,model_data.trainable_variables))\n",
    "        loss_list.append(loss)\n",
    "        if i%10==0:\n",
    "            print(\"iter {} : loss : {}\".format(i,loss)) \n",
    "    plt.plot(loss_list,color = \"purple\")\n",
    "    plt.xlabel(\"epochs\")\n",
    "    plt.ylabel(\"loss-value\")\n",
    "    plt.show()\n",
    "    print(model_data.trainable_variables)\n",
    "    return model_data"
   ]
  },
  {
   "cell_type": "code",
   "execution_count": 124,
   "metadata": {},
   "outputs": [],
   "source": [
    "init_distribution = tfd.Normal(loc = tf.Variable(1.0,name= \"loc\"),scale = 4.)"
   ]
  },
  {
   "cell_type": "code",
   "execution_count": 125,
   "metadata": {},
   "outputs": [
    {
     "name": "stdout",
     "output_type": "stream",
     "text": [
      "Initial State of the Model :  (<tf.Variable 'loc:0' shape=() dtype=float32, numpy=1.0>,)\n",
      "iter 10 : loss : 2.916611671447754\n",
      "iter 20 : loss : 2.905116081237793\n",
      "iter 30 : loss : 2.8944051265716553\n",
      "iter 40 : loss : 2.8845081329345703\n",
      "iter 50 : loss : 2.8754215240478516\n",
      "iter 60 : loss : 2.8671209812164307\n",
      "iter 70 : loss : 2.8595712184906006\n",
      "iter 80 : loss : 2.852731227874756\n",
      "iter 90 : loss : 2.846557855606079\n",
      "iter 100 : loss : 2.8410074710845947\n",
      "iter 110 : loss : 2.8360373973846436\n",
      "iter 120 : loss : 2.83160400390625\n",
      "iter 130 : loss : 2.8276660442352295\n",
      "iter 140 : loss : 2.824183225631714\n",
      "iter 150 : loss : 2.8211159706115723\n",
      "iter 160 : loss : 2.8184268474578857\n",
      "iter 170 : loss : 2.8160805702209473\n",
      "iter 180 : loss : 2.81404185295105\n",
      "iter 190 : loss : 2.81227970123291\n",
      "iter 200 : loss : 2.810763359069824\n",
      "iter 210 : loss : 2.8094654083251953\n",
      "iter 220 : loss : 2.808359384536743\n",
      "iter 230 : loss : 2.807422161102295\n",
      "iter 240 : loss : 2.806631565093994\n",
      "iter 250 : loss : 2.8059682846069336\n",
      "iter 260 : loss : 2.8054144382476807\n",
      "iter 270 : loss : 2.8049545288085938\n",
      "iter 280 : loss : 2.804574728012085\n",
      "iter 290 : loss : 2.804262399673462\n",
      "iter 300 : loss : 2.8040075302124023\n",
      "iter 310 : loss : 2.803799867630005\n",
      "iter 320 : loss : 2.8036317825317383\n",
      "iter 330 : loss : 2.8034965991973877\n",
      "iter 340 : loss : 2.8033883571624756\n",
      "iter 350 : loss : 2.80330228805542\n",
      "iter 360 : loss : 2.8032338619232178\n",
      "iter 370 : loss : 2.803179979324341\n",
      "iter 380 : loss : 2.80313777923584\n",
      "iter 390 : loss : 2.803104877471924\n",
      "iter 400 : loss : 2.803079605102539\n",
      "iter 410 : loss : 2.8030598163604736\n",
      "iter 420 : loss : 2.803044557571411\n",
      "iter 430 : loss : 2.803032875061035\n",
      "iter 440 : loss : 2.8030240535736084\n",
      "iter 450 : loss : 2.8030176162719727\n",
      "iter 460 : loss : 2.8030126094818115\n",
      "iter 470 : loss : 2.803008556365967\n",
      "iter 480 : loss : 2.8030059337615967\n",
      "iter 490 : loss : 2.8030037879943848\n",
      "iter 500 : loss : 2.80300235748291\n"
     ]
    },
    {
     "data": {
      "image/png": "[encoded data removed]",
      "text/plain": [
       "<Figure size 432x288 with 1 Axes>"
      ]
     },
     "metadata": {
      "needs_background": "light"
     },
     "output_type": "display_data"
    },
    {
     "name": "stdout",
     "output_type": "stream",
     "text": [
      "(<tf.Variable 'loc:0' shape=() dtype=float32, numpy=2.985529>,)\n"
     ]
    }
   ],
   "source": [
    "learned_distribution = train_model(samples,init_distribution,500)"
   ]
  },
  {
   "cell_type": "code",
   "execution_count": null,
   "metadata": {},
   "outputs": [],
   "source": []
  }
 ],
 "metadata": {
  "kernelspec": {
   "display_name": "Python 3",
   "language": "python",
   "name": "python3"
  },
  "language_info": {
   "codemirror_mode": {
    "name": "ipython",
    "version": 3
   },
   "file_extension": ".py",
   "mimetype": "text/x-python",
   "name": "python",
   "nbconvert_exporter": "python",
   "pygments_lexer": "ipython3",
   "version": "3.7.7"
  }
 },
 "nbformat": 4,
 "nbformat_minor": 4
}
